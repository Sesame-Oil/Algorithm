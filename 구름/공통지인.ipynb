{
 "cells": [
  {
   "cell_type": "code",
   "execution_count": 3,
   "metadata": {},
   "outputs": [
    {
     "name": "stdout",
     "output_type": "stream",
     "text": [
      "-1\n"
     ]
    }
   ],
   "source": [
    "N,M = map(int,input().split())\n",
    "\n",
    "person1=set()\n",
    "person2=set()\n",
    "\n",
    "for i in range(N):\n",
    "    person1.add(input())\n",
    "    \n",
    "for i in range(M):\n",
    "    person2.add(input())\n",
    "\n",
    "if not person1 & person2:\n",
    "    print(-1)\n",
    "\n",
    "else:\n",
    "    for i in person1 & person2:\n",
    "        print(i)"
   ]
  }
 ],
 "metadata": {
  "kernelspec": {
   "display_name": "base",
   "language": "python",
   "name": "python3"
  },
  "language_info": {
   "codemirror_mode": {
    "name": "ipython",
    "version": 3
   },
   "file_extension": ".py",
   "mimetype": "text/x-python",
   "name": "python",
   "nbconvert_exporter": "python",
   "pygments_lexer": "ipython3",
   "version": "3.11.5"
  }
 },
 "nbformat": 4,
 "nbformat_minor": 2
}
