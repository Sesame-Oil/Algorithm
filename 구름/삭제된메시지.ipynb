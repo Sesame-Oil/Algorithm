{
 "cells": [
  {
   "cell_type": "code",
   "execution_count": 3,
   "metadata": {},
   "outputs": [
    {
     "name": "stdout",
     "output_type": "stream",
     "text": [
      "1 goorm\n",
      "2 hi\n"
     ]
    }
   ],
   "source": [
    "N,M = map(int,input().split())\n",
    "\n",
    "\n",
    "messages = []\n",
    "people_cnt = [0 for i in range(N+1)]\n",
    "\n",
    "def del_message(id,n):\n",
    "    global messages\n",
    "    for i in range(len(messages)):\n",
    "        if messages[i][2].isalpha()and messages[i][0]==id and messages[i][1]==n :\n",
    "            messages[i][2] = \"0\"\n",
    "\n",
    "for _ in range(M):\n",
    "    id, m_or_p = input().split()\n",
    "    \n",
    "    if m_or_p.isalpha():\n",
    "        people_cnt[int(id)]+=1\n",
    "        messages.append([int(id),people_cnt[int(id)],m_or_p])\n",
    "    else:\n",
    "        del_message(int(id),int(m_or_p))\n",
    "\n",
    "for message in messages:\n",
    "    if message[2].isalpha():\n",
    "        print(message[0],message[2])\n",
    "    \n",
    "\n",
    "\n",
    "\n"
   ]
  },
  {
   "cell_type": "code",
   "execution_count": 4,
   "metadata": {},
   "outputs": [
    {
     "data": {
      "text/plain": [
       "[[1, 1, '0'], [1, 2, 'goorm'], [2, 1, 'hi']]"
      ]
     },
     "execution_count": 4,
     "metadata": {},
     "output_type": "execute_result"
    }
   ],
   "source": [
    "messages"
   ]
  },
  {
   "cell_type": "code",
   "execution_count": null,
   "metadata": {},
   "outputs": [],
   "source": []
  }
 ],
 "metadata": {
  "kernelspec": {
   "display_name": "base",
   "language": "python",
   "name": "python3"
  },
  "language_info": {
   "codemirror_mode": {
    "name": "ipython",
    "version": 3
   },
   "file_extension": ".py",
   "mimetype": "text/x-python",
   "name": "python",
   "nbconvert_exporter": "python",
   "pygments_lexer": "ipython3",
   "version": "3.11.7"
  }
 },
 "nbformat": 4,
 "nbformat_minor": 2
}
