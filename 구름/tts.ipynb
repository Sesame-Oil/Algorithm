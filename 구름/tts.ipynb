{
 "cells": [
  {
   "cell_type": "code",
   "execution_count": 29,
   "metadata": {},
   "outputs": [
    {
     "name": "stdout",
     "output_type": "stream",
     "text": [
      "17001\n",
      "12000\n"
     ]
    }
   ],
   "source": [
    "prices = list(map(int,input().split()))\n",
    "discounts = list(map(int,input().split()))\n",
    "sa,sb,sc = map(int,input().split())\n",
    "\n",
    "min_sum = prices[0] * sa + prices[1] *sb + prices[2] * sc + 1\n",
    "print(min_sum)\n",
    "\n",
    "def dfs(sa,sb,sc,sum):\n",
    "    global min_sum\n",
    "    if sa==-1 or sb==-1 or sc==-1:\n",
    "        return\n",
    "    \n",
    "    elif ((sa == 0) + (sb == 0) + (sc == 0)) >= 2:\n",
    "        min_sum=min(min_sum,sum+sa*prices[0]+sb*prices[1]+sc*prices[2])\n",
    "    \n",
    "        return\n",
    "    \n",
    "    else:\n",
    "        dfs(sa-1,sb-1,sc,sum+prices[0]+prices[1]-discounts[0])\n",
    "        dfs(sa-1,sb,sc-1,sum+prices[0]+prices[2]-discounts[1])\n",
    "        dfs(sa,sb-1,sc-1,sum+prices[1]+prices[2]-discounts[2])\n",
    "\n",
    "dfs(sa,sb,sc,0)\n",
    "print(min_sum)\n",
    "    \n"
   ]
  },
  {
   "cell_type": "code",
   "execution_count": null,
   "metadata": {},
   "outputs": [],
   "source": []
  }
 ],
 "metadata": {
  "kernelspec": {
   "display_name": "base",
   "language": "python",
   "name": "python3"
  },
  "language_info": {
   "codemirror_mode": {
    "name": "ipython",
    "version": 3
   },
   "file_extension": ".py",
   "mimetype": "text/x-python",
   "name": "python",
   "nbconvert_exporter": "python",
   "pygments_lexer": "ipython3",
   "version": "3.1.-1"
  }
 },
 "nbformat": 4,
 "nbformat_minor": 2
}
