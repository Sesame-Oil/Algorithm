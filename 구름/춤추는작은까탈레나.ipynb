{
 "cells": [
  {
   "cell_type": "code",
   "execution_count": null,
   "metadata": {},
   "outputs": [],
   "source": [
    "# -*- coding: utf-8 -*-\n",
    "# UTF-8 encoding when using korean\n",
    "\n",
    "from collections import deque\n",
    "\n",
    "N,K = map(int,input().split())\n",
    "\n",
    "li = [list(map(int,input().split())) for i in range(N)]\n",
    "\n",
    "\n",
    "queue = deque()\n",
    "\n",
    "for i in range(N):\n",
    "\tfor j in range(N):\n",
    "\t\tif li[i][j] == 1:\n",
    "\t\t\tqueue.append((i,j))\n",
    "\n",
    "\n",
    "movex=[0,0,1,-1]\n",
    "movey=[1,-1,0,0]\n",
    "\n",
    "cnt = 0\n",
    "\n",
    "for i in range(2,K+1):\n",
    "\tvisited = [[0 for i in range(N)] for j in range(N)]\n",
    "\t\n",
    "\twhile queue:\n",
    "\t\tnowx,nowy = queue.popleft()\n",
    "\t\tif li[nowx][nowy] == i:\n",
    "\t\t\tcnt += visited[nowx][nowy]\n",
    "\t\t\tqueue = deque()\n",
    "\t\t\tqueue.append((nowx,nowy))\n",
    "\t\t\tbreak\n",
    "\t\t\n",
    "\t\tfor tx,ty in zip(movex,movey):\n",
    "\t\t\tnextx = nowx + tx\n",
    "\t\t\tnexty = nowy + ty\n",
    "\t\t\tif 0 <= nextx < N and 0 <= nexty < N and visited[nextx][nexty] == 0:\n",
    "\t\t\t\tqueue.append((nextx,nexty))\n",
    "\t\t\t\tvisited[nextx][nexty] += visited[nowx][nowy] +1\n",
    "\t\n",
    "\t\n",
    "print(cnt)\n",
    "\t\n",
    "\t"
   ]
  }
 ],
 "metadata": {
  "language_info": {
   "name": "python"
  }
 },
 "nbformat": 4,
 "nbformat_minor": 2
}
