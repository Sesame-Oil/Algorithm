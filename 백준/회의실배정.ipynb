{
 "cells": [
  {
   "cell_type": "code",
   "execution_count": 3,
   "metadata": {},
   "outputs": [],
   "source": [
    "N = int(input())\n",
    "\n",
    "meeting_list = [list(map(int,input().split())) for i in range(N)]\n",
    "meeting_list.sort(key = lambda x:(x[1],x[0]))\n"
   ]
  },
  {
   "cell_type": "code",
   "execution_count": 5,
   "metadata": {},
   "outputs": [
    {
     "data": {
      "text/plain": [
       "[[1, 4],\n",
       " [3, 5],\n",
       " [0, 6],\n",
       " [5, 7],\n",
       " [3, 8],\n",
       " [5, 9],\n",
       " [6, 10],\n",
       " [8, 11],\n",
       " [8, 12],\n",
       " [2, 13],\n",
       " [12, 14]]"
      ]
     },
     "execution_count": 5,
     "metadata": {},
     "output_type": "execute_result"
    }
   ],
   "source": [
    "meeting_list"
   ]
  },
  {
   "cell_type": "code",
   "execution_count": 12,
   "metadata": {},
   "outputs": [
    {
     "name": "stdout",
     "output_type": "stream",
     "text": [
      "□■■■■□□□□□□□□□□□\n",
      "□□□■■■□□□□□□□□□□\n",
      "■■■■■■■□□□□□□□□□\n",
      "□□□□□■■■□□□□□□□□\n",
      "□□□■■■■■■□□□□□□□\n",
      "□□□□□■■■■■□□□□□□\n",
      "□□□□□□■■■■■□□□□□\n",
      "□□□□□□□□■■■■□□□□\n",
      "□□□□□□□□■■■■■□□□\n",
      "□□■■■■■■■■■■■■□□\n",
      "□□□□□□□□□□□□■■■□\n"
     ]
    }
   ],
   "source": [
    "for i in meeting_list:\n",
    "    print(\"□\"*(i[0])+\"■\"*(i[1]-i[0]+1)+\"□\"*(15-i[1]))"
   ]
  },
  {
   "cell_type": "code",
   "execution_count": null,
   "metadata": {},
   "outputs": [],
   "source": [
    "cnt = 1\n",
    "end_time = meeting_list[0][1]\n",
    "for i in meeting_list:\n",
    "    if i[0] >= end_time:\n",
    "        cnt += 1\n",
    "        end_time = i[1]"
   ]
  }
 ],
 "metadata": {
  "kernelspec": {
   "display_name": "base",
   "language": "python",
   "name": "python3"
  },
  "language_info": {
   "codemirror_mode": {
    "name": "ipython",
    "version": 3
   },
   "file_extension": ".py",
   "mimetype": "text/x-python",
   "name": "python",
   "nbconvert_exporter": "python",
   "pygments_lexer": "ipython3",
   "version": "3.11.5"
  }
 },
 "nbformat": 4,
 "nbformat_minor": 2
}
