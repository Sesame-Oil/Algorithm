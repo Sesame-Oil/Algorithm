{
 "cells": [
  {
   "cell_type": "code",
   "execution_count": 25,
   "metadata": {},
   "outputs": [],
   "source": [
    "import math\n",
    "\n",
    "N,M = map(int, input().split())\n",
    "\n",
    "whole = math.comb(N,3)\n",
    "avoid_comb = set()\n",
    "avoid = []\n",
    "d=[]\n",
    "for _ in range(M):\n",
    "    avoid.append(list(map(int, input().split())))\n",
    "\n",
    "for av in avoid:\n",
    "    a={frozenset({av[0], av[1], k}) for k in range(1,N+1) if k!= av[0] and k!=av[1]}\n",
    "    avoid_comb = avoid_comb.union(a)\n",
    "\n",
    "print(whole-len(avoid_comb))\n",
    "\n",
    "\n"
   ]
  },
  {
   "cell_type": "code",
   "execution_count": 27,
   "metadata": {},
   "outputs": [
    {
     "data": {
      "text/plain": [
       "3"
      ]
     },
     "execution_count": 27,
     "metadata": {},
     "output_type": "execute_result"
    }
   ],
   "source": [
    "whole-len(avoid_comb)"
   ]
  }
 ],
 "metadata": {
  "kernelspec": {
   "display_name": "base",
   "language": "python",
   "name": "python3"
  },
  "language_info": {
   "codemirror_mode": {
    "name": "ipython",
    "version": 3
   },
   "file_extension": ".py",
   "mimetype": "text/x-python",
   "name": "python",
   "nbconvert_exporter": "python",
   "pygments_lexer": "ipython3",
   "version": "3.11.5"
  }
 },
 "nbformat": 4,
 "nbformat_minor": 2
}
