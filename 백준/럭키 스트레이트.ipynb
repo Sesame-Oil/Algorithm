{
 "cells": [
  {
   "cell_type": "code",
   "execution_count": 26,
   "metadata": {},
   "outputs": [
    {
     "name": "stdout",
     "output_type": "stream",
     "text": [
      "LUCKY\n"
     ]
    }
   ],
   "source": [
    "N = input()\n",
    "if sum(map(int,list(N[:int(len(N)/2)]))) == sum(map(int,list(N[(int(len(N)/2)):]))):\n",
    "    print(\"LUCKY\")\n",
    "\n",
    "else:\n",
    "    print(\"READY\")\n"
   ]
  },
  {
   "cell_type": "code",
   "execution_count": 25,
   "metadata": {},
   "outputs": [
    {
     "name": "stdout",
     "output_type": "stream",
     "text": [
      "123 402\n"
     ]
    },
    {
     "data": {
      "text/plain": [
       "6"
      ]
     },
     "execution_count": 25,
     "metadata": {},
     "output_type": "execute_result"
    }
   ],
   "source": [
    "N = input()\n",
    "\n",
    "left = N[:int(len(N)/2)]\n",
    "right =N[int(len(N)/2):]\n",
    "\n",
    "print(left,right)\n",
    "\n",
    "sum(map(int,list(left)))"
   ]
  },
  {
   "cell_type": "code",
   "execution_count": 28,
   "metadata": {},
   "outputs": [
    {
     "data": {
      "text/plain": [
       "['1', '5', '7', 'A', 'B', 'C', 'K', 'K']"
      ]
     },
     "execution_count": 28,
     "metadata": {},
     "output_type": "execute_result"
    }
   ],
   "source": []
  },
  {
   "cell_type": "code",
   "execution_count": null,
   "metadata": {},
   "outputs": [],
   "source": []
  }
 ],
 "metadata": {
  "kernelspec": {
   "display_name": "base",
   "language": "python",
   "name": "python3"
  },
  "language_info": {
   "codemirror_mode": {
    "name": "ipython",
    "version": 3
   },
   "file_extension": ".py",
   "mimetype": "text/x-python",
   "name": "python",
   "nbconvert_exporter": "python",
   "pygments_lexer": "ipython3",
   "version": "3.11.7"
  }
 },
 "nbformat": 4,
 "nbformat_minor": 2
}
