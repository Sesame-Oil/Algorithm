{
 "cells": [
  {
   "cell_type": "code",
   "execution_count": 28,
   "metadata": {},
   "outputs": [],
   "source": [
    "def binary_leftsearch(array,target,start,end):\n",
    "    mid=(start+end)//2\n",
    "    print(mid)\n",
    "    if start>end:\n",
    "        return mid\n",
    "    if array[mid]>=target:\n",
    "        return binary_leftsearch(array,target,start,mid-1)\n",
    "    else:\n",
    "        return binary_leftsearch(array,target,mid+1,end)\n",
    "\n",
    "def binary_rightsearch(array,target,start,end):\n",
    "    mid=(start+end)//2\n",
    "    print(mid)\n",
    "    if start>end:\n",
    "        return mid\n",
    "   \n",
    "    if array[mid]>target:\n",
    "        return binary_rightsearch(array,target,start,mid-1)\n",
    "    else:\n",
    "        return binary_rightsearch(array,target,mid+1,end)    \n",
    "#N,x=map(int,input().split())\n",
    "#array=list(map(int,input().split()))\n",
    "\n",
    "array=[1,1,2,2,2,2,2,2,2,2,2,2,2,2,2,2,2,2,2,2,3]\n",
    "N,x = len(array),2"
   ]
  },
  {
   "cell_type": "code",
   "execution_count": 29,
   "metadata": {},
   "outputs": [
    {
     "name": "stdout",
     "output_type": "stream",
     "text": [
      "10\n",
      "4\n",
      "1\n",
      "2\n",
      "1\n",
      "10\n",
      "15\n",
      "18\n",
      "19\n",
      "20\n",
      "19\n"
     ]
    }
   ],
   "source": [
    "le = binary_leftsearch(array,x,0,N-1)\n",
    "ri = binary_rightsearch(array,x,0,N-1)"
   ]
  },
  {
   "cell_type": "markdown",
   "metadata": {},
   "source": []
  },
  {
   "cell_type": "code",
   "execution_count": 30,
   "metadata": {},
   "outputs": [
    {
     "name": "stdout",
     "output_type": "stream",
     "text": [
      "18\n"
     ]
    }
   ],
   "source": [
    "leng = ri - le\n",
    "if leng:\n",
    "    print(leng)\n",
    "else:\n",
    "    print(-1)\n"
   ]
  },
  {
   "cell_type": "code",
   "execution_count": null,
   "metadata": {},
   "outputs": [],
   "source": []
  }
 ],
 "metadata": {
  "kernelspec": {
   "display_name": "base",
   "language": "python",
   "name": "python3"
  },
  "language_info": {
   "codemirror_mode": {
    "name": "ipython",
    "version": 3
   },
   "file_extension": ".py",
   "mimetype": "text/x-python",
   "name": "python",
   "nbconvert_exporter": "python",
   "pygments_lexer": "ipython3",
   "version": "3.11.5"
  }
 },
 "nbformat": 4,
 "nbformat_minor": 2
}
