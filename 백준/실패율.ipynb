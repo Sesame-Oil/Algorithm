{
 "cells": [
  {
   "cell_type": "code",
   "execution_count": null,
   "metadata": {},
   "outputs": [],
   "source": [
    "def solution(N, stages):\n",
    "    rates = [0 for i in range(N+1)]\n",
    "    \n",
    "    for i in stages:\n",
    "        rates[i-1] += 1\n",
    "    \n",
    "    for i in range(len(rates)):\n",
    "        if sum(rates[i:]) != 0:\n",
    "            rates[i]/= sum(rates[i:])\n",
    "        \n",
    "    rates.pop()\n",
    "    \n",
    "    numbers = rates\n",
    "    answer = []\n",
    "    \n",
    "    indexed_numbers = [(value, index) for index, value in enumerate(numbers)]\n",
    "\n",
    "    # 값을 기준으로 내림차순 정렬\n",
    "    sorted_indexed_numbers = sorted(indexed_numbers, key=lambda x: x[0], reverse=True)\n",
    "\n",
    "    # 정렬된 리스트에서 인덱스만 추출\n",
    "    sorted_indices = [index+1 for value, index in sorted_indexed_numbers]\n",
    "    answer = sorted_indices\n",
    "\n",
    "    return answer"
   ]
  }
 ],
 "metadata": {
  "language_info": {
   "name": "python"
  }
 },
 "nbformat": 4,
 "nbformat_minor": 2
}
