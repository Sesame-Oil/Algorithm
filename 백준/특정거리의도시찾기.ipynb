{
 "cells": [
  {
   "cell_type": "code",
   "execution_count": 10,
   "metadata": {},
   "outputs": [],
   "source": [
    "N,M,K,X = map(int,input().split())\n",
    "\n",
    "graph = [[] for i in range(N+1)]\n",
    "\n",
    "visited = [False for i in range(N+1)]\n",
    "result = []\n",
    "\n",
    "\n",
    "for i in range(M):\n",
    "    start, end = map(int,input().split())\n",
    "    graph[start].append(end)\n",
    "\n",
    "def dfs(start,cnt):\n",
    "    global result\n",
    "\n",
    "    if cnt==K:\n",
    "        result.append(start)\n",
    "        return\n",
    "    \n",
    "    for i in graph[start]:\n",
    "        if visited[i] == False:\n",
    "            visited[i] = True\n",
    "            dfs(i,cnt+1)\n",
    "            \n",
    "\n"
   ]
  },
  {
   "cell_type": "code",
   "execution_count": 13,
   "metadata": {},
   "outputs": [],
   "source": [
    "dfs(1,0)"
   ]
  },
  {
   "cell_type": "code",
   "execution_count": 14,
   "metadata": {},
   "outputs": [
    {
     "data": {
      "text/plain": [
       "[1, 3, 4]"
      ]
     },
     "execution_count": 14,
     "metadata": {},
     "output_type": "execute_result"
    }
   ],
   "source": [
    "result"
   ]
  },
  {
   "cell_type": "code",
   "execution_count": null,
   "metadata": {},
   "outputs": [],
   "source": []
  }
 ],
 "metadata": {
  "kernelspec": {
   "display_name": "base",
   "language": "python",
   "name": "python3"
  },
  "language_info": {
   "codemirror_mode": {
    "name": "ipython",
    "version": 3
   },
   "file_extension": ".py",
   "mimetype": "text/x-python",
   "name": "python",
   "nbconvert_exporter": "python",
   "pygments_lexer": "ipython3",
   "version": "undefined.undefined.undefined"
  }
 },
 "nbformat": 4,
 "nbformat_minor": 2
}
