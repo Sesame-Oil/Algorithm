{
 "cells": [
  {
   "cell_type": "code",
   "execution_count": 2,
   "metadata": {},
   "outputs": [],
   "source": [
    "from collections import deque\n",
    "import sys\n",
    "\n",
    "N,M,K,X = map(int,sys.stdin.readline().split())\n",
    "\n",
    "graph = [[] for i in range(N+1)]\n",
    "\n",
    "for i in range(M):\n",
    "    start, end = map(int,sys.stdin.readline().split())\n",
    "    graph[start].append(end)\n",
    "\n",
    "def bfs(K,X):\n",
    "    distances = [-1 for i in range(N+1)]\n",
    "    \n",
    "    q = deque()\n",
    "    q.append(X)\n",
    "\n",
    "    distances[X] = 0\n",
    "\n",
    "    while q:\n",
    "        now = q.popleft()\n",
    "\n",
    "        for i in graph[now]:\n",
    "            if distances[i] == -1:\n",
    "                distances[i] = distances[now] + 1\n",
    "                q.append(i)\n",
    "    \n",
    "    if K in distances:\n",
    "        for i in range(len(distances)):\n",
    "            if distances[i] == K:\n",
    "                print(i)\n",
    "    else: \n",
    "        print(-1)\n",
    "\n",
    "\n",
    "bfs(K,X)\n"
   ]
  },
  {
   "cell_type": "code",
   "execution_count": 1,
   "metadata": {},
   "outputs": [
    {
     "name": "stdout",
     "output_type": "stream",
     "text": [
      "1\n"
     ]
    }
   ],
   "source": [
    "print(1)"
   ]
  },
  {
   "cell_type": "code",
   "execution_count": 1,
   "metadata": {},
   "outputs": [
    {
     "name": "stdout",
     "output_type": "stream",
     "text": [
      "-1\n"
     ]
    }
   ],
   "source": [
    "from collections import deque\n",
    "import sys\n",
    "\n",
    "N,M,K,X = map(int,input().split())\n",
    "\n",
    "graph = [[] for i in range(N+1)]\n",
    "\n",
    "for i in range(M):\n",
    "    start, end = map(int,input().split())\n",
    "    graph[start].append(end)\n",
    "\n",
    "def bfs(K,X):\n",
    "    distances = [-1 for i in range(N+1)]\n",
    "    \n",
    "    q = deque()\n",
    "    q.append(X)\n",
    "\n",
    "    distances[X] = 0\n",
    "\n",
    "    while q:\n",
    "        now = q.popleft()\n",
    "\n",
    "        for i in graph[now]:\n",
    "            if distances[i] == -1:\n",
    "                distances[i] = distances[now] + 1\n",
    "                q.append(i)\n",
    "    \n",
    "    if K in distances:\n",
    "        for i in range(len(distances)):\n",
    "            if distances[i] == K:\n",
    "                print(i)\n",
    "    else: \n",
    "        print(-1)\n",
    "\n",
    "\n",
    "bfs(K,X)\n"
   ]
  },
  {
   "cell_type": "code",
   "execution_count": null,
   "metadata": {},
   "outputs": [],
   "source": []
  }
 ],
 "metadata": {
  "kernelspec": {
   "display_name": "base",
   "language": "python",
   "name": "python3"
  },
  "language_info": {
   "codemirror_mode": {
    "name": "ipython",
    "version": 3
   },
   "file_extension": ".py",
   "mimetype": "text/x-python",
   "name": "python",
   "nbconvert_exporter": "python",
   "pygments_lexer": "ipython3",
   "version": "3.11.5"
  }
 },
 "nbformat": 4,
 "nbformat_minor": 2
}
