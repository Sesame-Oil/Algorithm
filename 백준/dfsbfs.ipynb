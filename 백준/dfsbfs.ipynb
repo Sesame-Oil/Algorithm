{
 "cells": [
  {
   "cell_type": "code",
   "execution_count": 21,
   "metadata": {},
   "outputs": [
    {
     "name": "stdout",
     "output_type": "stream",
     "text": [
      "1 2 4 3 \n",
      "1 2 3 4 "
     ]
    }
   ],
   "source": [
    "from collections import deque\n",
    "\n",
    "N,M,v = map(int,input().split())\n",
    "\n",
    "graph = [[] for i in range(N+1)]\n",
    "\n",
    "\n",
    "for _ in range(M):\n",
    "    s,e = map(int,input().split())\n",
    "    graph[s].append(e)\n",
    "    graph[e].append(s)\n",
    "\n",
    "for i in graph:\n",
    "    i.sort()\n",
    "\n",
    "def dfs(graph, v, visited):\n",
    "    visited[v] = True\n",
    "    print(v,end= ' ')\n",
    "\n",
    "    for i in graph[v]:\n",
    "        if not visited[i]:\n",
    "            dfs(graph, i,visited)\n",
    "\n",
    "def bfs(graph,v,visted):\n",
    "    queue = deque()\n",
    "\n",
    "    queue.append(v)\n",
    "    visted[v] = True\n",
    "    while queue:\n",
    "        current = queue.popleft()\n",
    "        print(current, end=\" \")\n",
    "        for node in graph[current]:\n",
    "            if not visited[node]:\n",
    "                queue.append(node)\n",
    "                visited[node] = True\n",
    "\n",
    "\n",
    "\n",
    "visited =[False]*(N+1)\n",
    "dfs(graph,v,visited)\n",
    "\n",
    "print()\n",
    "\n",
    "visited =[False]*(N+1)\n",
    "bfs(graph,v,visited)\n"
   ]
  },
  {
   "cell_type": "code",
   "execution_count": 22,
   "metadata": {},
   "outputs": [
    {
     "data": {
      "text/plain": [
       "[[], [2, 3, 4], [1, 4], [1, 4], [1, 2, 3]]"
      ]
     },
     "execution_count": 22,
     "metadata": {},
     "output_type": "execute_result"
    }
   ],
   "source": [
    "graph"
   ]
  },
  {
   "cell_type": "code",
   "execution_count": 9,
   "metadata": {},
   "outputs": [
    {
     "name": "stdout",
     "output_type": "stream",
     "text": [
      "4 "
     ]
    }
   ],
   "source": []
  },
  {
   "cell_type": "code",
   "execution_count": null,
   "metadata": {},
   "outputs": [],
   "source": []
  }
 ],
 "metadata": {
  "kernelspec": {
   "display_name": "base",
   "language": "python",
   "name": "python3"
  },
  "language_info": {
   "codemirror_mode": {
    "name": "ipython",
    "version": 3
   },
   "file_extension": ".py",
   "mimetype": "text/x-python",
   "name": "python",
   "nbconvert_exporter": "python",
   "pygments_lexer": "ipython3",
   "version": "3.11.7"
  }
 },
 "nbformat": 4,
 "nbformat_minor": 2
}
