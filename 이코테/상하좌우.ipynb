{
 "cells": [
  {
   "cell_type": "code",
   "execution_count": 1,
   "metadata": {},
   "outputs": [],
   "source": [
    "N = int(input())\n",
    "movings = input().split()\n",
    "\n",
    "state = [1,1]\n",
    "for moving in movings:\n",
    "    if moving== \"R\":\n",
    "        state[1] += 1\n",
    "\n",
    "    elif moving == \"L\":\n",
    "        state[1] -= 1\n",
    "\n",
    "    elif moving ==\"U\":\n",
    "        state[0] -= 1\n",
    "\n",
    "    elif moving == \"D\":\n",
    "        state[0] += 1 \n",
    "    \n",
    "    if state[0]==0:\n",
    "        state[0] = 1\n",
    "    elif state[1] == 0:\n",
    "        state[1] = 1\n",
    "    elif state[0]==N+1:\n",
    "        state[0] =N\n",
    "    elif state[1] == N+1:\n",
    "        state[1] =N"
   ]
  },
  {
   "cell_type": "code",
   "execution_count": 2,
   "metadata": {},
   "outputs": [
    {
     "data": {
      "text/plain": [
       "[3, 4]"
      ]
     },
     "execution_count": 2,
     "metadata": {},
     "output_type": "execute_result"
    }
   ],
   "source": [
    "state"
   ]
  },
  {
   "cell_type": "code",
   "execution_count": null,
   "metadata": {},
   "outputs": [],
   "source": []
  }
 ],
 "metadata": {
  "kernelspec": {
   "display_name": "Python 3 (ipykernel)",
   "language": "python",
   "name": "python3"
  },
  "language_info": {
   "codemirror_mode": {
    "name": "ipython",
    "version": 3
   },
   "file_extension": ".py",
   "mimetype": "text/x-python",
   "name": "python",
   "nbconvert_exporter": "python",
   "pygments_lexer": "ipython3",
   "version": "3.11.7"
  }
 },
 "nbformat": 4,
 "nbformat_minor": 4
}
