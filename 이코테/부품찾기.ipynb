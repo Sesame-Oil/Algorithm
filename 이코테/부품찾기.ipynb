{
 "cells": [
  {
   "cell_type": "code",
   "execution_count": 1,
   "metadata": {},
   "outputs": [],
   "source": [
    "def binary_search(array,target,start,end):\n",
    "    if start>end:\n",
    "        return None\n",
    "    \n",
    "    mid = (start+end) //2 \n",
    "\n",
    "    if array[mid] == target:\n",
    "        return mid\n",
    "    \n",
    "    elif array[mid] > target:\n",
    "        return binary_search(array,target,start,mid-1)\n",
    "    else:\n",
    "        return binary_search(array,target,mid+1,end)\n",
    "    "
   ]
  },
  {
   "cell_type": "code",
   "execution_count": 2,
   "metadata": {},
   "outputs": [
    {
     "name": "stdout",
     "output_type": "stream",
     "text": [
      "yes no no "
     ]
    }
   ],
   "source": [
    "import sys \n",
    "N = int(input()) #sys.stdin.readline().rstrip()\n",
    "shop_list = list(map(int,input().split()))\n",
    "\n",
    "M = int(input())\n",
    "buying_list = list(map(int,input().split()))\n",
    "\n",
    "for i in buying_list:\n",
    "    if binary_search(shop_list,i,0,len(shop_list)-1):\n",
    "        print(\"yes\",end=\" \")\n",
    "    else:\n",
    "        print(\"no\",end=\" \")    \n",
    "\n",
    "\n"
   ]
  },
  {
   "cell_type": "code",
   "execution_count": null,
   "metadata": {},
   "outputs": [],
   "source": []
  }
 ],
 "metadata": {
  "kernelspec": {
   "display_name": "base",
   "language": "python",
   "name": "python3"
  },
  "language_info": {
   "codemirror_mode": {
    "name": "ipython",
    "version": 3
   },
   "file_extension": ".py",
   "mimetype": "text/x-python",
   "name": "python",
   "nbconvert_exporter": "python",
   "pygments_lexer": "ipython3",
   "version": "3.11.5"
  }
 },
 "nbformat": 4,
 "nbformat_minor": 2
}
