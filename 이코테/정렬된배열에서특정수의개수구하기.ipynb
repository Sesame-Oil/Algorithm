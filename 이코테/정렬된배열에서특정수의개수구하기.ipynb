{
 "cells": [
  {
   "cell_type": "code",
   "execution_count": 4,
   "metadata": {},
   "outputs": [],
   "source": [
    "def binary_leftsearch(array,target,start,end):\n",
    "    mid=(start+end)//2\n",
    "    print(mid)\n",
    "    if start>end:\n",
    "        return mid\n",
    "    if array[mid]>=target:\n",
    "        return binary_leftsearch(array,target,start,mid-1)\n",
    "    else:\n",
    "        return binary_leftsearch(array,target,mid+1,end)\n",
    "\n",
    "def binary_rightsearch(array,target,start,end):\n",
    "    mid=(start+end)//2\n",
    "    print(mid)\n",
    "    if start>end:\n",
    "        return mid\n",
    "   \n",
    "    if array[mid]>target:\n",
    "        return binary_rightsearch(array,target,start,mid-1)\n",
    "    else:\n",
    "        return binary_rightsearch(array,target,mid+1,end)    \n",
    "#N,x=map(int,input().split())\n",
    "#array=list(map(int,input().split()))\n",
    "\n",
    "array=[1,1,2,2,2,2,3]\n",
    "N,x = len(array),4"
   ]
  },
  {
   "cell_type": "code",
   "execution_count": 5,
   "metadata": {},
   "outputs": [
    {
     "name": "stdout",
     "output_type": "stream",
     "text": [
      "3\n",
      "5\n",
      "6\n",
      "6\n",
      "3\n",
      "5\n",
      "6\n",
      "6\n"
     ]
    }
   ],
   "source": [
    "le = binary_leftsearch(array,x,0,N-1)\n",
    "ri = binary_rightsearch(array,x,0,N-1)"
   ]
  },
  {
   "cell_type": "markdown",
   "metadata": {},
   "source": []
  },
  {
   "cell_type": "code",
   "execution_count": 6,
   "metadata": {},
   "outputs": [
    {
     "name": "stdout",
     "output_type": "stream",
     "text": [
      "-1\n"
     ]
    }
   ],
   "source": [
    "leng = ri - le\n",
    "if leng:\n",
    "    print(leng)\n",
    "else:\n",
    "    print(-1)\n"
   ]
  },
  {
   "cell_type": "code",
   "execution_count": null,
   "metadata": {},
   "outputs": [],
   "source": []
  }
 ],
 "metadata": {
  "kernelspec": {
   "display_name": "base",
   "language": "python",
   "name": "python3"
  },
  "language_info": {
   "codemirror_mode": {
    "name": "ipython",
    "version": 3
   },
   "file_extension": ".py",
   "mimetype": "text/x-python",
   "name": "python",
   "nbconvert_exporter": "python",
   "pygments_lexer": "ipython3",
   "version": "3.11.5"
  }
 },
 "nbformat": 4,
 "nbformat_minor": 2
}
