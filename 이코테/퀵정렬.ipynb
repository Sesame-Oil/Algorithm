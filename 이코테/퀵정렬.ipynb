{
 "cells": [
  {
   "cell_type": "code",
   "execution_count": 1,
   "metadata": {},
   "outputs": [
    {
     "name": "stdout",
     "output_type": "stream",
     "text": [
      "[0, 1, 2, 3, 4, 5, 6, 7, 8, 9]\n"
     ]
    }
   ],
   "source": [
    "array = [5,7,9,0,3,1,6,2,4,8]\n",
    "\n",
    "def quicksort(array,start,end):\n",
    "    if start >= end:\n",
    "        return\n",
    "    \n",
    "    pivot = start # 피벗 설정\n",
    "\n",
    "    left = start +1\n",
    "    right = end\n",
    "\n",
    "    while left <= right: # 왼쪽이 오른쪽보다 작을때 반복 \n",
    "        # pivot 보다 큰 요소 찾기\n",
    "        while left <= end and array[left] <= array[pivot]: \n",
    "            left +=1\n",
    "\n",
    "        # pivot 보다 작은 요소 찾기\n",
    "        while right > start and array[right]>=array[pivot]:\n",
    "            right -=1\n",
    "        \n",
    "        if left>right : # 엇갈린 경우\n",
    "            array[right] ,array[pivot] = array[pivot], array[right]\n",
    "        \n",
    "        else: # 안 엇갈림\n",
    "            array[left],array[right] = array[right],array[left]\n",
    "        \n",
    "    quicksort(array,start,right-1)\n",
    "    quicksort(array,right+1,end)\n",
    "\n",
    "quicksort(array,0,len(array)-1)\n",
    "\n",
    "print(array)\n"
   ]
  },
  {
   "cell_type": "code",
   "execution_count": null,
   "metadata": {},
   "outputs": [],
   "source": []
  }
 ],
 "metadata": {
  "kernelspec": {
   "display_name": "base",
   "language": "python",
   "name": "python3"
  },
  "language_info": {
   "codemirror_mode": {
    "name": "ipython",
    "version": 3
   },
   "file_extension": ".py",
   "mimetype": "text/x-python",
   "name": "python",
   "nbconvert_exporter": "python",
   "pygments_lexer": "ipython3",
   "version": "3.11.5"
  }
 },
 "nbformat": 4,
 "nbformat_minor": 2
}
