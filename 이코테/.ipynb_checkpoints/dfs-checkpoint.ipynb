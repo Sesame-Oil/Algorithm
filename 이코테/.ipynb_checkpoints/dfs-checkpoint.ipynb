{
 "cells": [
  {
   "cell_type": "code",
   "execution_count": 1,
   "metadata": {},
   "outputs": [],
   "source": [
    "graph=[\n",
    "    [],\n",
    "    [2,3,8],\n",
    "    [1,7],\n",
    "    [1,4,5],\n",
    "    [3,5],\n",
    "    [3,4],\n",
    "    [7],\n",
    "    [2,6,8],\n",
    "    [1,7] \n",
    "]\n"
   ]
  },
  {
   "cell_type": "code",
   "execution_count": 6,
   "metadata": {},
   "outputs": [
    {
     "name": "stdout",
     "output_type": "stream",
     "text": [
      "1 2 7 6 8 3 4 5 "
     ]
    }
   ],
   "source": [
    "def dfs(graph, v, visited):\n",
    "    visited[v] = True\n",
    "    print(v,end= ' ')\n",
    "\n",
    "    for i in graph[v]:\n",
    "        if not visited[i]:\n",
    "            dfs(graph, i,visited)\n",
    "\n",
    "\n",
    "visited =[False]*9\n",
    "\n",
    "first_node = 1\n",
    "\n",
    "dfs(graph,first_node,visited)"
   ]
  },
  {
   "cell_type": "code",
   "execution_count": 9,
   "metadata": {},
   "outputs": [
    {
     "name": "stdout",
     "output_type": "stream",
     "text": [
      "1 2 7 6 8 3 4 5 "
     ]
    }
   ],
   "source": [
    "def find_unvisited_adjacent(graph,current_node,visited):\n",
    "    for node in graph[current_node]:\n",
    "        if visited[node] == False:\n",
    "            return node\n",
    "    return False\n",
    "\n",
    "def dfs(graph,v,visited):\n",
    "    stack = []\n",
    "    stack.append(v)\n",
    "    visited[v]=True\n",
    "    current = v\n",
    "    print(current, end=\" \")\n",
    "    while stack:\n",
    "        # top\n",
    "        current = find_unvisited_adjacent(graph,stack[-1],visited)\n",
    "        if current:\n",
    "            print(current, end = \" \")\n",
    "            stack.append(current)\n",
    "            visited[current] = True\n",
    "        else:\n",
    "            stack.pop()\n",
    "\n",
    "\n",
    "\n",
    "visited =[False]*9\n",
    "\n",
    "first_node = 1\n",
    "\n",
    "dfs(graph,first_node,visited)\n"
   ]
  },
  {
   "cell_type": "code",
   "execution_count": null,
   "metadata": {},
   "outputs": [],
   "source": []
  }
 ],
 "metadata": {
  "kernelspec": {
   "display_name": "base",
   "language": "python",
   "name": "python3"
  },
  "language_info": {
   "codemirror_mode": {
    "name": "ipython",
    "version": 3
   },
   "file_extension": ".py",
   "mimetype": "text/x-python",
   "name": "python",
   "nbconvert_exporter": "python",
   "pygments_lexer": "ipython3",
   "version": "3.11.5"
  }
 },
 "nbformat": 4,
 "nbformat_minor": 2
}
