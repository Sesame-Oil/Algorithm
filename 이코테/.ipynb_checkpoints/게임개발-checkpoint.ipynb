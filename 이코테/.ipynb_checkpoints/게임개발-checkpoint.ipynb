{
 "cells": [
  {
   "cell_type": "code",
   "execution_count": 5,
   "metadata": {},
   "outputs": [
    {
     "name": "stdout",
     "output_type": "stream",
     "text": [
      "3 2 1\n",
      "3 3 0\n",
      "2 3 3\n",
      "2 2 2\n",
      "2 2 1\n",
      "2 2 0\n",
      "1 2 3\n",
      "1 2 2\n",
      "1 2 1\n",
      "1 3 0\n",
      "1 3 3\n",
      "1 3 2\n",
      "1 3 1\n",
      "1 4 0\n",
      "1 4 3\n",
      "1 4 2\n",
      "2 4 1\n",
      "2 4 0\n",
      "2 4 3\n",
      "2 4 2\n",
      "3 4 1\n",
      "3 4 0\n",
      "3 4 3\n",
      "3 4 2\n",
      "4 4 1\n",
      "4 4 0\n",
      "4 4 3\n",
      "4 3 2\n",
      "4 3 1\n",
      "4 3 0\n",
      "4 3 3\n",
      "4 4 2\n",
      "4 4 1\n",
      "4 4 0\n",
      "4 4 3\n",
      "11\n"
     ]
    }
   ],
   "source": [
    "N,M = map(int,input().split())\n",
    "\n",
    "currentX,currentY,currentD = map(int,input().split())\n",
    "\n",
    "maplist = [list(map(int,input().split())) for i in range(N)]\n",
    "\n",
    "visited = [[0]*M for i in range(N)]\n",
    "\n",
    "dx = [-1,0,1,0]\n",
    "dy = [0,1,0,-1]\n",
    "\n",
    "visited[currentX][currentY] = 1\n",
    "\n",
    "def turn():\n",
    "    global currentD\n",
    "    if currentD !=0:\n",
    "        currentD -=1\n",
    "    else:\n",
    "        currentD = 3\n",
    "\n",
    "\n",
    "turn_count = 0\n",
    "count=1\n",
    "\n",
    "while True:\n",
    "    turn()\n",
    "    print(currentX,currentY,currentD)\n",
    "    turn_count += 1  # turn_count increment moved here\n",
    "    # 왼쪽에있고 안가본곳일 때\n",
    "    if maplist[currentX+dx[currentD]][currentY+dy[currentD]] == 0 and visited[currentX+dx[currentD]][currentY+dy[currentD]] == 0:\n",
    "        currentX+=dx[currentD]\n",
    "        currentY+=dy[currentD]\n",
    "        visited[currentX][currentY]=1\n",
    "        count+=1\n",
    "        turn_count = 0  # reset turn_count when a move is successful\n",
    "\n",
    "    elif turn_count == 4:\n",
    "        if maplist[currentX-dx[currentD]][currentY-dy[currentD]] == 0:\n",
    "            currentX-=dx[currentD]\n",
    "            currentY-=dy[currentD]\n",
    "            turn_count = 0\n",
    "        else:\n",
    "            break\n",
    "print(count)\n",
    "\n"
   ]
  },
  {
   "cell_type": "code",
   "execution_count": 6,
   "metadata": {},
   "outputs": [
    {
     "data": {
      "text/plain": [
       "11"
      ]
     },
     "execution_count": 6,
     "metadata": {},
     "output_type": "execute_result"
    }
   ],
   "source": [
    "count"
   ]
  },
  {
   "cell_type": "code",
   "execution_count": null,
   "metadata": {},
   "outputs": [],
   "source": []
  }
 ],
 "metadata": {
  "kernelspec": {
   "display_name": "base",
   "language": "python",
   "name": "python3"
  },
  "language_info": {
   "codemirror_mode": {
    "name": "ipython",
    "version": 3
   },
   "file_extension": ".py",
   "mimetype": "text/x-python",
   "name": "python",
   "nbconvert_exporter": "python",
   "pygments_lexer": "ipython3",
   "version": "3.11.7"
  }
 },
 "nbformat": 4,
 "nbformat_minor": 2
}
