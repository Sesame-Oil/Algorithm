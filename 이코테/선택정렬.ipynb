{
 "cells": [
  {
   "cell_type": "code",
   "execution_count": 12,
   "metadata": {},
   "outputs": [
    {
     "name": "stdout",
     "output_type": "stream",
     "text": [
      "[0, 5, 9, 7, 3, 1, 6, 2, 4, 8]\n",
      "[0, 1, 9, 7, 3, 5, 6, 2, 4, 8]\n",
      "[0, 1, 2, 7, 3, 5, 6, 9, 4, 8]\n",
      "[0, 1, 2, 3, 7, 5, 6, 9, 4, 8]\n",
      "[0, 1, 2, 3, 4, 5, 6, 9, 7, 8]\n",
      "[0, 1, 2, 3, 4, 5, 6, 9, 7, 8]\n",
      "[0, 1, 2, 3, 4, 5, 6, 9, 7, 8]\n",
      "[0, 1, 2, 3, 4, 5, 6, 7, 9, 8]\n",
      "[0, 1, 2, 3, 4, 5, 6, 7, 8, 9]\n",
      "[0, 1, 2, 3, 4, 5, 6, 7, 8, 9]\n"
     ]
    }
   ],
   "source": [
    "li = [7,5,9,0,3,1,6,2,4,8]\n",
    "\n",
    "for j in range(len(li)):\n",
    "    min_idx = j\n",
    "    for i in range(j,len(li)):\n",
    "        if li[i] <= li[min_idx]:\n",
    "            min_idx=i\n",
    "    li[j],li[min_idx] = li[min_idx],li[j]\n",
    "\n",
    "    print(li)\n"
   ]
  },
  {
   "cell_type": "code",
   "execution_count": 2,
   "metadata": {},
   "outputs": [
    {
     "data": {
      "text/plain": [
       "3"
      ]
     },
     "execution_count": 2,
     "metadata": {},
     "output_type": "execute_result"
    }
   ],
   "source": [
    "min_idx"
   ]
  },
  {
   "cell_type": "code",
   "execution_count": 14,
   "metadata": {},
   "outputs": [
    {
     "data": {
      "text/plain": [
       "110"
      ]
     },
     "execution_count": 14,
     "metadata": {},
     "output_type": "execute_result"
    }
   ],
   "source": [
    "ord(\"n\")"
   ]
  },
  {
   "cell_type": "code",
   "execution_count": 15,
   "metadata": {},
   "outputs": [
    {
     "data": {
      "text/plain": [
       "65"
      ]
     },
     "execution_count": 15,
     "metadata": {},
     "output_type": "execute_result"
    }
   ],
   "source": [
    "ord('A')"
   ]
  },
  {
   "cell_type": "code",
   "execution_count": 16,
   "metadata": {},
   "outputs": [],
   "source": [
    "arr = [['Junkyu', '50', '60', '100'],\n",
    " ['Sangkeun', '80', '60', '50'],\n",
    " ['Sungyoung', '80', '70', '100'],\n",
    " ['Soong', '50', '60', '90'],\n",
    " ['Heabin', '50', '60', '100'],\n",
    " ['Kangsoo', '60', '80', '100'],\n",
    " ['Donghyuk', '80', '60', '100'],\n",
    " ['Sei', '70', '70', '70'],\n",
    " ['Wonseob', '70', '70', '90'],\n",
    " ['Sanghyun', '70', '70', '80'],\n",
    " ['nsj', '80', '80', '80'],\n",
    " ['Taewhan', '50', '60', '90']]\n",
    "\n",
    "arr.sort()"
   ]
  },
  {
   "cell_type": "code",
   "execution_count": 17,
   "metadata": {},
   "outputs": [
    {
     "data": {
      "text/plain": [
       "[['Donghyuk', '80', '60', '100'],\n",
       " ['Heabin', '50', '60', '100'],\n",
       " ['Junkyu', '50', '60', '100'],\n",
       " ['Kangsoo', '60', '80', '100'],\n",
       " ['Sanghyun', '70', '70', '80'],\n",
       " ['Sangkeun', '80', '60', '50'],\n",
       " ['Sei', '70', '70', '70'],\n",
       " ['Soong', '50', '60', '90'],\n",
       " ['Sungyoung', '80', '70', '100'],\n",
       " ['Taewhan', '50', '60', '90'],\n",
       " ['Wonseob', '70', '70', '90'],\n",
       " ['nsj', '80', '80', '80']]"
      ]
     },
     "execution_count": 17,
     "metadata": {},
     "output_type": "execute_result"
    }
   ],
   "source": [
    "arr"
   ]
  },
  {
   "cell_type": "code",
   "execution_count": null,
   "metadata": {},
   "outputs": [],
   "source": [
    "lower_arr = [[element.lower() for element in sublist] for sublist in arr]"
   ]
  }
 ],
 "metadata": {
  "kernelspec": {
   "display_name": "base",
   "language": "python",
   "name": "python3"
  },
  "language_info": {
   "codemirror_mode": {
    "name": "ipython",
    "version": 3
   },
   "file_extension": ".py",
   "mimetype": "text/x-python",
   "name": "python",
   "nbconvert_exporter": "python",
   "pygments_lexer": "ipython3",
   "version": "3.11.5"
  }
 },
 "nbformat": 4,
 "nbformat_minor": 2
}
