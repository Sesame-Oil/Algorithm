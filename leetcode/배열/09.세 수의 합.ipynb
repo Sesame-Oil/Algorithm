{
 "cells": [
  {
   "cell_type": "code",
   "execution_count": 9,
   "metadata": {},
   "outputs": [],
   "source": [
    "nums=[-1, 0, 1, 2, -1, -4]"
   ]
  },
  {
   "cell_type": "code",
   "execution_count": 17,
   "metadata": {},
   "outputs": [
    {
     "data": {
      "text/plain": [
       "[-4, -1, -1, 0, 1, 2]"
      ]
     },
     "execution_count": 17,
     "metadata": {},
     "output_type": "execute_result"
    }
   ],
   "source": [
    "sorted(nums)"
   ]
  },
  {
   "cell_type": "code",
   "execution_count": 13,
   "metadata": {},
   "outputs": [],
   "source": [
    "class Solution:\n",
    "    def threeSum(self, nums:list[int]) -> list[list[int]]:\n",
    "        result =[]\n",
    "        sortedNums = sorted(nums)\n",
    "        for i in range(len(sortedNums)-2):\n",
    "            if sortedNums[i]>0:\n",
    "                break\n",
    "            if i > 0 and sortedNums[i] == sortedNums[i-1]:\n",
    "                continue\n",
    "            left,right = i+1,len(sortedNums)-1\n",
    "\n",
    "            while left < right:\n",
    "                sum = sortedNums[i] + sortedNums[left] + sortedNums[right]\n",
    "                if sum < 0:\n",
    "                    left +=1\n",
    "                elif sum > 0:\n",
    "                    right -=1\n",
    "                elif sum == 0:\n",
    "                    result.append([sortedNums[i], sortedNums[left], sortedNums[right]])\n",
    "                    while left<right and sortedNums[left] == sortedNums[left+1]:\n",
    "                        left+=1\n",
    "                    while left<right and sortedNums[right] == sortedNums[right-1]:\n",
    "                        right-=1\n",
    "                    left += 1\n",
    "                    right -= 1\n",
    "                \n",
    "        return result\n",
    "\n",
    "\n",
    "\n"
   ]
  },
  {
   "cell_type": "code",
   "execution_count": 15,
   "metadata": {},
   "outputs": [
    {
     "data": {
      "text/plain": [
       "[[-1, -1, 2], [-1, 0, 1]]"
      ]
     },
     "execution_count": 15,
     "metadata": {},
     "output_type": "execute_result"
    }
   ],
   "source": [
    "a=Solution()\n",
    "a.threeSum(nums)"
   ]
  },
  {
   "cell_type": "code",
   "execution_count": 16,
   "metadata": {},
   "outputs": [
    {
     "ename": "ValueError",
     "evalue": "list.remove(x): x not in list",
     "output_type": "error",
     "traceback": [
      "\u001b[1;31m---------------------------------------------------------------------------\u001b[0m",
      "\u001b[1;31mValueError\u001b[0m                                Traceback (most recent call last)",
      "\u001b[1;32mc:\\Users\\Sesame\\Desktop\\알고리즘 공부\\PS\\leetcode\\배열\\09.세 수의 합.ipynb 셀 4\u001b[0m line \u001b[0;36m<cell line: 4>\u001b[1;34m()\u001b[0m\n\u001b[0;32m      <a href='vscode-notebook-cell:/c%3A/Users/Sesame/Desktop/%EC%95%8C%EA%B3%A0%EB%A6%AC%EC%A6%98%20%EA%B3%B5%EB%B6%80/PS/leetcode/%EB%B0%B0%EC%97%B4/09.%EC%84%B8%20%EC%88%98%EC%9D%98%20%ED%95%A9.ipynb#W3sZmlsZQ%3D%3D?line=0'>1</a>\u001b[0m b\u001b[39m=\u001b[39m[[\u001b[39m-\u001b[39m\u001b[39m82\u001b[39m,\u001b[39m-\u001b[39m\u001b[39m11\u001b[39m,\u001b[39m93\u001b[39m],[\u001b[39m-\u001b[39m\u001b[39m82\u001b[39m,\u001b[39m13\u001b[39m,\u001b[39m69\u001b[39m],[\u001b[39m-\u001b[39m\u001b[39m82\u001b[39m,\u001b[39m17\u001b[39m,\u001b[39m65\u001b[39m],[\u001b[39m-\u001b[39m\u001b[39m82\u001b[39m,\u001b[39m21\u001b[39m,\u001b[39m61\u001b[39m],[\u001b[39m-\u001b[39m\u001b[39m82\u001b[39m,\u001b[39m26\u001b[39m,\u001b[39m56\u001b[39m],[\u001b[39m-\u001b[39m\u001b[39m82\u001b[39m,\u001b[39m33\u001b[39m,\u001b[39m49\u001b[39m],[\u001b[39m-\u001b[39m\u001b[39m82\u001b[39m,\u001b[39m34\u001b[39m,\u001b[39m48\u001b[39m],[\u001b[39m-\u001b[39m\u001b[39m82\u001b[39m,\u001b[39m36\u001b[39m,\u001b[39m46\u001b[39m],[\u001b[39m-\u001b[39m\u001b[39m70\u001b[39m,\u001b[39m-\u001b[39m\u001b[39m14\u001b[39m,\u001b[39m84\u001b[39m],[\u001b[39m-\u001b[39m\u001b[39m70\u001b[39m,\u001b[39m-\u001b[39m\u001b[39m6\u001b[39m,\u001b[39m76\u001b[39m],[\u001b[39m-\u001b[39m\u001b[39m70\u001b[39m,\u001b[39m1\u001b[39m,\u001b[39m69\u001b[39m],[\u001b[39m-\u001b[39m\u001b[39m70\u001b[39m,\u001b[39m13\u001b[39m,\u001b[39m57\u001b[39m],[\u001b[39m-\u001b[39m\u001b[39m70\u001b[39m,\u001b[39m15\u001b[39m,\u001b[39m55\u001b[39m],[\u001b[39m-\u001b[39m\u001b[39m70\u001b[39m,\u001b[39m21\u001b[39m,\u001b[39m49\u001b[39m],[\u001b[39m-\u001b[39m\u001b[39m70\u001b[39m,\u001b[39m34\u001b[39m,\u001b[39m36\u001b[39m],[\u001b[39m-\u001b[39m\u001b[39m66\u001b[39m,\u001b[39m-\u001b[39m\u001b[39m11\u001b[39m,\u001b[39m77\u001b[39m],[\u001b[39m-\u001b[39m\u001b[39m66\u001b[39m,\u001b[39m-\u001b[39m\u001b[39m3\u001b[39m,\u001b[39m69\u001b[39m],[\u001b[39m-\u001b[39m\u001b[39m66\u001b[39m,\u001b[39m1\u001b[39m,\u001b[39m65\u001b[39m],[\u001b[39m-\u001b[39m\u001b[39m66\u001b[39m,\u001b[39m10\u001b[39m,\u001b[39m56\u001b[39m],[\u001b[39m-\u001b[39m\u001b[39m66\u001b[39m,\u001b[39m17\u001b[39m,\u001b[39m49\u001b[39m],[\u001b[39m-\u001b[39m\u001b[39m49\u001b[39m,\u001b[39m-\u001b[39m\u001b[39m6\u001b[39m,\u001b[39m55\u001b[39m],[\u001b[39m-\u001b[39m\u001b[39m49\u001b[39m,\u001b[39m-\u001b[39m\u001b[39m3\u001b[39m,\u001b[39m52\u001b[39m],[\u001b[39m-\u001b[39m\u001b[39m49\u001b[39m,\u001b[39m1\u001b[39m,\u001b[39m48\u001b[39m],[\u001b[39m-\u001b[39m\u001b[39m49\u001b[39m,\u001b[39m2\u001b[39m,\u001b[39m47\u001b[39m],[\u001b[39m-\u001b[39m\u001b[39m49\u001b[39m,\u001b[39m13\u001b[39m,\u001b[39m36\u001b[39m],[\u001b[39m-\u001b[39m\u001b[39m49\u001b[39m,\u001b[39m15\u001b[39m,\u001b[39m34\u001b[39m],[\u001b[39m-\u001b[39m\u001b[39m49\u001b[39m,\u001b[39m21\u001b[39m,\u001b[39m28\u001b[39m],[\u001b[39m-\u001b[39m\u001b[39m43\u001b[39m,\u001b[39m-\u001b[39m\u001b[39m14\u001b[39m,\u001b[39m57\u001b[39m],[\u001b[39m-\u001b[39m\u001b[39m43\u001b[39m,\u001b[39m-\u001b[39m\u001b[39m6\u001b[39m,\u001b[39m49\u001b[39m],[\u001b[39m-\u001b[39m\u001b[39m43\u001b[39m,\u001b[39m-\u001b[39m\u001b[39m3\u001b[39m,\u001b[39m46\u001b[39m],[\u001b[39m-\u001b[39m\u001b[39m43\u001b[39m,\u001b[39m10\u001b[39m,\u001b[39m33\u001b[39m],[\u001b[39m-\u001b[39m\u001b[39m43\u001b[39m,\u001b[39m12\u001b[39m,\u001b[39m31\u001b[39m],[\u001b[39m-\u001b[39m\u001b[39m43\u001b[39m,\u001b[39m15\u001b[39m,\u001b[39m28\u001b[39m],[\u001b[39m-\u001b[39m\u001b[39m43\u001b[39m,\u001b[39m17\u001b[39m,\u001b[39m26\u001b[39m],[\u001b[39m-\u001b[39m\u001b[39m29\u001b[39m,\u001b[39m-\u001b[39m\u001b[39m14\u001b[39m,\u001b[39m43\u001b[39m],[\u001b[39m-\u001b[39m\u001b[39m29\u001b[39m,\u001b[39m1\u001b[39m,\u001b[39m28\u001b[39m],[\u001b[39m-\u001b[39m\u001b[39m29\u001b[39m,\u001b[39m12\u001b[39m,\u001b[39m17\u001b[39m],[\u001b[39m-\u001b[39m\u001b[39m14\u001b[39m,\u001b[39m-\u001b[39m\u001b[39m3\u001b[39m,\u001b[39m17\u001b[39m],[\u001b[39m-\u001b[39m\u001b[39m14\u001b[39m,\u001b[39m1\u001b[39m,\u001b[39m13\u001b[39m],[\u001b[39m-\u001b[39m\u001b[39m14\u001b[39m,\u001b[39m2\u001b[39m,\u001b[39m12\u001b[39m],[\u001b[39m-\u001b[39m\u001b[39m11\u001b[39m,\u001b[39m-\u001b[39m\u001b[39m6\u001b[39m,\u001b[39m17\u001b[39m],[\u001b[39m-\u001b[39m\u001b[39m11\u001b[39m,\u001b[39m1\u001b[39m,\u001b[39m10\u001b[39m],[\u001b[39m-\u001b[39m\u001b[39m3\u001b[39m,\u001b[39m1\u001b[39m,\u001b[39m2\u001b[39m]]\n\u001b[0;32m      <a href='vscode-notebook-cell:/c%3A/Users/Sesame/Desktop/%EC%95%8C%EA%B3%A0%EB%A6%AC%EC%A6%98%20%EA%B3%B5%EB%B6%80/PS/leetcode/%EB%B0%B0%EC%97%B4/09.%EC%84%B8%20%EC%88%98%EC%9D%98%20%ED%95%A9.ipynb#W3sZmlsZQ%3D%3D?line=1'>2</a>\u001b[0m c\u001b[39m=\u001b[39m[[\u001b[39m-\u001b[39m\u001b[39m82\u001b[39m,\u001b[39m-\u001b[39m\u001b[39m11\u001b[39m,\u001b[39m93\u001b[39m],[\u001b[39m-\u001b[39m\u001b[39m82\u001b[39m,\u001b[39m13\u001b[39m,\u001b[39m69\u001b[39m],[\u001b[39m-\u001b[39m\u001b[39m82\u001b[39m,\u001b[39m17\u001b[39m,\u001b[39m65\u001b[39m],[\u001b[39m-\u001b[39m\u001b[39m82\u001b[39m,\u001b[39m21\u001b[39m,\u001b[39m61\u001b[39m],[\u001b[39m-\u001b[39m\u001b[39m82\u001b[39m,\u001b[39m26\u001b[39m,\u001b[39m56\u001b[39m],[\u001b[39m-\u001b[39m\u001b[39m82\u001b[39m,\u001b[39m33\u001b[39m,\u001b[39m49\u001b[39m],[\u001b[39m-\u001b[39m\u001b[39m82\u001b[39m,\u001b[39m34\u001b[39m,\u001b[39m48\u001b[39m],[\u001b[39m-\u001b[39m\u001b[39m82\u001b[39m,\u001b[39m36\u001b[39m,\u001b[39m46\u001b[39m],[\u001b[39m-\u001b[39m\u001b[39m70\u001b[39m,\u001b[39m-\u001b[39m\u001b[39m14\u001b[39m,\u001b[39m84\u001b[39m],[\u001b[39m-\u001b[39m\u001b[39m70\u001b[39m,\u001b[39m-\u001b[39m\u001b[39m6\u001b[39m,\u001b[39m76\u001b[39m],[\u001b[39m-\u001b[39m\u001b[39m70\u001b[39m,\u001b[39m1\u001b[39m,\u001b[39m69\u001b[39m],[\u001b[39m-\u001b[39m\u001b[39m70\u001b[39m,\u001b[39m13\u001b[39m,\u001b[39m57\u001b[39m],[\u001b[39m-\u001b[39m\u001b[39m70\u001b[39m,\u001b[39m15\u001b[39m,\u001b[39m55\u001b[39m],[\u001b[39m-\u001b[39m\u001b[39m70\u001b[39m,\u001b[39m15\u001b[39m,\u001b[39m55\u001b[39m],[\u001b[39m-\u001b[39m\u001b[39m70\u001b[39m,\u001b[39m21\u001b[39m,\u001b[39m49\u001b[39m],[\u001b[39m-\u001b[39m\u001b[39m70\u001b[39m,\u001b[39m34\u001b[39m,\u001b[39m36\u001b[39m],[\u001b[39m-\u001b[39m\u001b[39m66\u001b[39m,\u001b[39m-\u001b[39m\u001b[39m11\u001b[39m,\u001b[39m77\u001b[39m],[\u001b[39m-\u001b[39m\u001b[39m66\u001b[39m,\u001b[39m-\u001b[39m\u001b[39m3\u001b[39m,\u001b[39m69\u001b[39m],[\u001b[39m-\u001b[39m\u001b[39m66\u001b[39m,\u001b[39m1\u001b[39m,\u001b[39m65\u001b[39m],[\u001b[39m-\u001b[39m\u001b[39m66\u001b[39m,\u001b[39m10\u001b[39m,\u001b[39m56\u001b[39m],[\u001b[39m-\u001b[39m\u001b[39m66\u001b[39m,\u001b[39m17\u001b[39m,\u001b[39m49\u001b[39m],[\u001b[39m-\u001b[39m\u001b[39m49\u001b[39m,\u001b[39m-\u001b[39m\u001b[39m6\u001b[39m,\u001b[39m55\u001b[39m],[\u001b[39m-\u001b[39m\u001b[39m49\u001b[39m,\u001b[39m-\u001b[39m\u001b[39m3\u001b[39m,\u001b[39m52\u001b[39m],[\u001b[39m-\u001b[39m\u001b[39m49\u001b[39m,\u001b[39m1\u001b[39m,\u001b[39m48\u001b[39m],[\u001b[39m-\u001b[39m\u001b[39m49\u001b[39m,\u001b[39m2\u001b[39m,\u001b[39m47\u001b[39m],[\u001b[39m-\u001b[39m\u001b[39m49\u001b[39m,\u001b[39m13\u001b[39m,\u001b[39m36\u001b[39m],[\u001b[39m-\u001b[39m\u001b[39m49\u001b[39m,\u001b[39m15\u001b[39m,\u001b[39m34\u001b[39m],[\u001b[39m-\u001b[39m\u001b[39m49\u001b[39m,\u001b[39m21\u001b[39m,\u001b[39m28\u001b[39m],[\u001b[39m-\u001b[39m\u001b[39m43\u001b[39m,\u001b[39m-\u001b[39m\u001b[39m14\u001b[39m,\u001b[39m57\u001b[39m],[\u001b[39m-\u001b[39m\u001b[39m43\u001b[39m,\u001b[39m-\u001b[39m\u001b[39m6\u001b[39m,\u001b[39m49\u001b[39m],[\u001b[39m-\u001b[39m\u001b[39m43\u001b[39m,\u001b[39m-\u001b[39m\u001b[39m3\u001b[39m,\u001b[39m46\u001b[39m],[\u001b[39m-\u001b[39m\u001b[39m43\u001b[39m,\u001b[39m-\u001b[39m\u001b[39m3\u001b[39m,\u001b[39m46\u001b[39m],[\u001b[39m-\u001b[39m\u001b[39m43\u001b[39m,\u001b[39m10\u001b[39m,\u001b[39m33\u001b[39m],[\u001b[39m-\u001b[39m\u001b[39m43\u001b[39m,\u001b[39m12\u001b[39m,\u001b[39m31\u001b[39m],[\u001b[39m-\u001b[39m\u001b[39m43\u001b[39m,\u001b[39m15\u001b[39m,\u001b[39m28\u001b[39m],[\u001b[39m-\u001b[39m\u001b[39m43\u001b[39m,\u001b[39m15\u001b[39m,\u001b[39m28\u001b[39m],[\u001b[39m-\u001b[39m\u001b[39m43\u001b[39m,\u001b[39m17\u001b[39m,\u001b[39m26\u001b[39m],[\u001b[39m-\u001b[39m\u001b[39m29\u001b[39m,\u001b[39m-\u001b[39m\u001b[39m14\u001b[39m,\u001b[39m43\u001b[39m],[\u001b[39m-\u001b[39m\u001b[39m29\u001b[39m,\u001b[39m1\u001b[39m,\u001b[39m28\u001b[39m],[\u001b[39m-\u001b[39m\u001b[39m29\u001b[39m,\u001b[39m12\u001b[39m,\u001b[39m17\u001b[39m],[\u001b[39m-\u001b[39m\u001b[39m14\u001b[39m,\u001b[39m-\u001b[39m\u001b[39m3\u001b[39m,\u001b[39m17\u001b[39m],[\u001b[39m-\u001b[39m\u001b[39m14\u001b[39m,\u001b[39m1\u001b[39m,\u001b[39m13\u001b[39m],[\u001b[39m-\u001b[39m\u001b[39m14\u001b[39m,\u001b[39m2\u001b[39m,\u001b[39m12\u001b[39m],[\u001b[39m-\u001b[39m\u001b[39m11\u001b[39m,\u001b[39m-\u001b[39m\u001b[39m6\u001b[39m,\u001b[39m17\u001b[39m],[\u001b[39m-\u001b[39m\u001b[39m11\u001b[39m,\u001b[39m1\u001b[39m,\u001b[39m10\u001b[39m],[\u001b[39m-\u001b[39m\u001b[39m3\u001b[39m,\u001b[39m1\u001b[39m,\u001b[39m2\u001b[39m]]\n\u001b[1;32m----> <a href='vscode-notebook-cell:/c%3A/Users/Sesame/Desktop/%EC%95%8C%EA%B3%A0%EB%A6%AC%EC%A6%98%20%EA%B3%B5%EB%B6%80/PS/leetcode/%EB%B0%B0%EC%97%B4/09.%EC%84%B8%20%EC%88%98%EC%9D%98%20%ED%95%A9.ipynb#W3sZmlsZQ%3D%3D?line=3'>4</a>\u001b[0m c\u001b[39m.\u001b[39;49mremove(b)\n",
      "\u001b[1;31mValueError\u001b[0m: list.remove(x): x not in list"
     ]
    }
   ],
   "source": [
    "b=[[-82,-11,93],[-82,13,69],[-82,17,65],[-82,21,61],[-82,26,56],[-82,33,49],[-82,34,48],[-82,36,46],[-70,-14,84],[-70,-6,76],[-70,1,69],[-70,13,57],[-70,15,55],[-70,21,49],[-70,34,36],[-66,-11,77],[-66,-3,69],[-66,1,65],[-66,10,56],[-66,17,49],[-49,-6,55],[-49,-3,52],[-49,1,48],[-49,2,47],[-49,13,36],[-49,15,34],[-49,21,28],[-43,-14,57],[-43,-6,49],[-43,-3,46],[-43,10,33],[-43,12,31],[-43,15,28],[-43,17,26],[-29,-14,43],[-29,1,28],[-29,12,17],[-14,-3,17],[-14,1,13],[-14,2,12],[-11,-6,17],[-11,1,10],[-3,1,2]]\n",
    "c=[[-82,-11,93],[-82,13,69],[-82,17,65],[-82,21,61],[-82,26,56],[-82,33,49],[-82,34,48],[-82,36,46],[-70,-14,84],[-70,-6,76],[-70,1,69],[-70,13,57],[-70,15,55],[-70,15,55],[-70,21,49],[-70,34,36],[-66,-11,77],[-66,-3,69],[-66,1,65],[-66,10,56],[-66,17,49],[-49,-6,55],[-49,-3,52],[-49,1,48],[-49,2,47],[-49,13,36],[-49,15,34],[-49,21,28],[-43,-14,57],[-43,-6,49],[-43,-3,46],[-43,-3,46],[-43,10,33],[-43,12,31],[-43,15,28],[-43,15,28],[-43,17,26],[-29,-14,43],[-29,1,28],[-29,12,17],[-14,-3,17],[-14,1,13],[-14,2,12],[-11,-6,17],[-11,1,10],[-3,1,2]]\n",
    "\n",
    "c.remove(b)"
   ]
  },
  {
   "cell_type": "code",
   "execution_count": null,
   "metadata": {},
   "outputs": [],
   "source": []
  },
  {
   "cell_type": "code",
   "execution_count": null,
   "metadata": {},
   "outputs": [],
   "source": [
    "[-4, -1, -1, 0, 1, 1, 2]"
   ]
  }
 ],
 "metadata": {
  "kernelspec": {
   "display_name": "base",
   "language": "python",
   "name": "python3"
  },
  "language_info": {
   "codemirror_mode": {
    "name": "ipython",
    "version": 3
   },
   "file_extension": ".py",
   "mimetype": "text/x-python",
   "name": "python",
   "nbconvert_exporter": "python",
   "pygments_lexer": "ipython3",
   "version": "3.9.13"
  },
  "orig_nbformat": 4
 },
 "nbformat": 4,
 "nbformat_minor": 2
}
