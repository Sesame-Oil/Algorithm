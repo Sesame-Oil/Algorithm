{
 "cells": [
  {
   "cell_type": "code",
   "execution_count": null,
   "metadata": {},
   "outputs": [],
   "source": [
    "s = \"babad\""
   ]
  },
  {
   "cell_type": "code",
   "execution_count": null,
   "metadata": {},
   "outputs": [],
   "source": [
    "class Soultion:\n",
    "    def longestPalindrome(self, s:str) -> str:\n",
    "        def expand(left:int, right: int) -> str:\n",
    "            while left >=0 and right <= len(s) and s[left] == s[right -1]:\n",
    "                left -= 1\n",
    "                right += 1\n",
    "            return s[left+1:right-1]\n",
    "        if len(s) <2 or s ==s[::-1]:\n",
    "            return s\n",
    "        result = \" \"\n",
    "        for i in range(len(s)):\n",
    "            result = max(result, expand(i,i+1), expand(i,i+2), key = len)\n",
    "        return result"
   ]
  },
  {
   "cell_type": "code",
   "execution_count": null,
   "metadata": {},
   "outputs": [],
   "source": []
  }
 ],
 "metadata": {
  "language_info": {
   "name": "python"
  }
 },
 "nbformat": 4,
 "nbformat_minor": 2
}
