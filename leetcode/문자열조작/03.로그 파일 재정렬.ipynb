{
 "cells": [
  {
   "cell_type": "code",
   "execution_count": 4,
   "metadata": {},
   "outputs": [],
   "source": [
    "logs = [\"dig1 8 1 5 1\", \"let1 art can\", \"dig2 3 6\", \"let2 own kit dig\",\"let3 art zero\"]\n",
    "input = logs\n"
   ]
  },
  {
   "cell_type": "code",
   "execution_count": 5,
   "metadata": {},
   "outputs": [
    {
     "ename": "NameError",
     "evalue": "name 'List' is not defined",
     "output_type": "error",
     "traceback": [
      "\u001b[1;31m---------------------------------------------------------------------------\u001b[0m",
      "\u001b[1;31mNameError\u001b[0m                                 Traceback (most recent call last)",
      "\u001b[1;32mc:\\Users\\777da\\Desktop\\PS\\leetcode\\문자열조작\\03.로그 파일 재정렬.ipynb 셀 2\u001b[0m line \u001b[0;36m1\n\u001b[1;32m----> <a href='vscode-notebook-cell:/c%3A/Users/777da/Desktop/PS/leetcode/%EB%AC%B8%EC%9E%90%EC%97%B4%EC%A1%B0%EC%9E%91/03.%EB%A1%9C%EA%B7%B8%20%ED%8C%8C%EC%9D%BC%20%EC%9E%AC%EC%A0%95%EB%A0%AC.ipynb#W0sZmlsZQ%3D%3D?line=0'>1</a>\u001b[0m \u001b[39mclass\u001b[39;00m \u001b[39mSolution\u001b[39;00m:\n\u001b[0;32m      <a href='vscode-notebook-cell:/c%3A/Users/777da/Desktop/PS/leetcode/%EB%AC%B8%EC%9E%90%EC%97%B4%EC%A1%B0%EC%9E%91/03.%EB%A1%9C%EA%B7%B8%20%ED%8C%8C%EC%9D%BC%20%EC%9E%AC%EC%A0%95%EB%A0%AC.ipynb#W0sZmlsZQ%3D%3D?line=1'>2</a>\u001b[0m     \u001b[39mdef\u001b[39;00m \u001b[39mreoderLogFiles\u001b[39m(\u001b[39mself\u001b[39m, logs:List[\u001b[39mstr\u001b[39m]) \u001b[39m-\u001b[39m\u001b[39m>\u001b[39m List[\u001b[39mstr\u001b[39m]:\n\u001b[0;32m      <a href='vscode-notebook-cell:/c%3A/Users/777da/Desktop/PS/leetcode/%EB%AC%B8%EC%9E%90%EC%97%B4%EC%A1%B0%EC%9E%91/03.%EB%A1%9C%EA%B7%B8%20%ED%8C%8C%EC%9D%BC%20%EC%9E%AC%EC%A0%95%EB%A0%AC.ipynb#W0sZmlsZQ%3D%3D?line=2'>3</a>\u001b[0m         letters, digits \u001b[39m=\u001b[39m [], []\n",
      "\u001b[1;32mc:\\Users\\777da\\Desktop\\PS\\leetcode\\문자열조작\\03.로그 파일 재정렬.ipynb 셀 2\u001b[0m line \u001b[0;36m2\n\u001b[0;32m      <a href='vscode-notebook-cell:/c%3A/Users/777da/Desktop/PS/leetcode/%EB%AC%B8%EC%9E%90%EC%97%B4%EC%A1%B0%EC%9E%91/03.%EB%A1%9C%EA%B7%B8%20%ED%8C%8C%EC%9D%BC%20%EC%9E%AC%EC%A0%95%EB%A0%AC.ipynb#W0sZmlsZQ%3D%3D?line=0'>1</a>\u001b[0m \u001b[39mclass\u001b[39;00m \u001b[39mSolution\u001b[39;00m:\n\u001b[1;32m----> <a href='vscode-notebook-cell:/c%3A/Users/777da/Desktop/PS/leetcode/%EB%AC%B8%EC%9E%90%EC%97%B4%EC%A1%B0%EC%9E%91/03.%EB%A1%9C%EA%B7%B8%20%ED%8C%8C%EC%9D%BC%20%EC%9E%AC%EC%A0%95%EB%A0%AC.ipynb#W0sZmlsZQ%3D%3D?line=1'>2</a>\u001b[0m     \u001b[39mdef\u001b[39;00m \u001b[39mreoderLogFiles\u001b[39m(\u001b[39mself\u001b[39m, logs:List[\u001b[39mstr\u001b[39m]) \u001b[39m-\u001b[39m\u001b[39m>\u001b[39m List[\u001b[39mstr\u001b[39m]:\n\u001b[0;32m      <a href='vscode-notebook-cell:/c%3A/Users/777da/Desktop/PS/leetcode/%EB%AC%B8%EC%9E%90%EC%97%B4%EC%A1%B0%EC%9E%91/03.%EB%A1%9C%EA%B7%B8%20%ED%8C%8C%EC%9D%BC%20%EC%9E%AC%EC%A0%95%EB%A0%AC.ipynb#W0sZmlsZQ%3D%3D?line=2'>3</a>\u001b[0m         letters, digits \u001b[39m=\u001b[39m [], []\n\u001b[0;32m      <a href='vscode-notebook-cell:/c%3A/Users/777da/Desktop/PS/leetcode/%EB%AC%B8%EC%9E%90%EC%97%B4%EC%A1%B0%EC%9E%91/03.%EB%A1%9C%EA%B7%B8%20%ED%8C%8C%EC%9D%BC%20%EC%9E%AC%EC%A0%95%EB%A0%AC.ipynb#W0sZmlsZQ%3D%3D?line=3'>4</a>\u001b[0m         \u001b[39mfor\u001b[39;00m log \u001b[39min\u001b[39;00m logs:\n",
      "\u001b[1;31mNameError\u001b[0m: name 'List' is not defined"
     ]
    }
   ],
   "source": [
    "class Solution:\n",
    "    def reoderLogFiles(self, logs:List[str]) -> List[str]:\n",
    "        letters, digits = [], []\n",
    "        for log in logs:\n",
    "            if log.split()[1].isdigit():\n",
    "                digits.append(log)\n",
    "            else:\n",
    "                letters.append(log)\n",
    "        letters.sort(key = lambda x: (x.split()[1:], x.split()[0]))\n",
    "        return letters + digits\n"
   ]
  }
 ],
 "metadata": {
  "kernelspec": {
   "display_name": "base",
   "language": "python",
   "name": "python3"
  },
  "language_info": {
   "codemirror_mode": {
    "name": "ipython",
    "version": 3
   },
   "file_extension": ".py",
   "mimetype": "text/x-python",
   "name": "python",
   "nbconvert_exporter": "python",
   "pygments_lexer": "ipython3",
   "version": "3.11.5"
  },
  "orig_nbformat": 4
 },
 "nbformat": 4,
 "nbformat_minor": 2
}
