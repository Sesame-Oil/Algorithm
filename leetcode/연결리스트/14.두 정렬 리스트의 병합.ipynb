{
 "cells": [
  {
   "cell_type": "code",
   "execution_count": null,
   "metadata": {},
   "outputs": [],
   "source": [
    "class ListNode:\n",
    "    def __init__(self, val=0, next=None):\n",
    "        self.val = val\n",
    "        self.next = next\n",
    "\n",
    "class Solution:\n",
    "    def mergeTwoLists(self, l1:ListNode,l2:ListNode) -> ListNode:\n",
    "        if l1.val >= l2.val and l2.next:\n",
    "                l2.next,l1.next, = l1,l2.next,l1.next\n",
    "        elif l1.val < l2.val and l1.next: \n",
    "             head.next = l1\n",
    "             l1 = l1.next\n",
    "\n",
    "        while l1 or l2:\n",
    "            if l1.val >= l2.val and l2.next:\n",
    "                head.next = l2\n",
    "                l2 = l2.next\n",
    "            elif l1.val < l2.val and l1.next: \n",
    "                 head.next = l1\n",
    "                 l1 = l1.next\n",
    "        return head.next\n",
    "        \n"
   ]
  }
 ],
 "metadata": {
  "language_info": {
   "name": "python"
  }
 },
 "nbformat": 4,
 "nbformat_minor": 2
}
