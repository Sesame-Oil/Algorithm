{
 "cells": [
  {
   "cell_type": "code",
   "execution_count": 35,
   "metadata": {},
   "outputs": [],
   "source": [
    "class ListNode:\n",
    "    def __init__(self, val=0, next=None):\n",
    "        self.val = val\n",
    "        self.next = next\n",
    "\n",
    "class Solution:\n",
    "    def mergeTwoLists(self, l1:ListNode,l2:ListNode) -> ListNode:\n",
    "        dummy_head = ListNode()\n",
    "        tail = dummy_head\n",
    "\n",
    "        while l1 and l2:\n",
    "            if l1.val <= l2.val:\n",
    "                tail.next = l1\n",
    "                l1 = l1.next\n",
    "            else:\n",
    "                tail.next = l2\n",
    "                l2 = l2.next\n",
    "            tail = tail.next\n",
    "\n",
    "        # 남은 노드 처리\n",
    "        if l1:\n",
    "            tail.next = l1\n",
    "        elif l2:\n",
    "            tail.next = l2\n",
    "\n",
    "        # dummy head 다음에 있는 첫 번째 노드를 반환\n",
    "            head = dummy_head.next\n",
    "        return head\n",
    "        \n"
   ]
  }
 ],
 "metadata": {
  "kernelspec": {
   "display_name": "base",
   "language": "python",
   "name": "python3"
  },
  "language_info": {
   "codemirror_mode": {
    "name": "ipython",
    "version": 3
   },
   "file_extension": ".py",
   "mimetype": "text/x-python",
   "name": "python",
   "nbconvert_exporter": "python",
   "pygments_lexer": "ipython3",
   "version": "3.11.5"
  }
 },
 "nbformat": 4,
 "nbformat_minor": 2
}
