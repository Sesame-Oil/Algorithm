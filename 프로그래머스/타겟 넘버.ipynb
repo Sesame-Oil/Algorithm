{
 "cells": [
  {
   "cell_type": "code",
   "execution_count": 6,
   "metadata": {},
   "outputs": [],
   "source": [
    "def solution(numbers, target):\n",
    "    result=0\n",
    "\n",
    "    def dfs(numbers,target,index):\n",
    "        nonlocal result\n",
    "        if index == len(numbers)-1:\n",
    "            if target==numbers[index]:\n",
    "                result+=1\n",
    "            elif target==-numbers[index]:\n",
    "                result+=1\n",
    "            return\n",
    "\n",
    "        dfs(numbers,target-numbers[index],index+1)\n",
    "        dfs(numbers,target+numbers[index],index+1)\n",
    "        \n",
    "    dfs(numbers,target,0)\n",
    "    return result\n",
    "\n"
   ]
  },
  {
   "cell_type": "code",
   "execution_count": 25,
   "metadata": {},
   "outputs": [
    {
     "ename": "SyntaxError",
     "evalue": "no binding for nonlocal 'result' found (780087640.py, line 6)",
     "output_type": "error",
     "traceback": [
      "\u001b[1;36m  Cell \u001b[1;32mIn[25], line 6\u001b[1;36m\u001b[0m\n\u001b[1;33m    nonlocal result\u001b[0m\n\u001b[1;37m    ^\u001b[0m\n\u001b[1;31mSyntaxError\u001b[0m\u001b[1;31m:\u001b[0m no binding for nonlocal 'result' found\n"
     ]
    }
   ],
   "source": [
    "numbers = [1,1,1,1,1]\n",
    "\n",
    "result=0\n",
    "\n",
    "def dfs(numbers,target,index):\n",
    "    nonlocal result\n",
    "    if index == len(numbers)-1:\n",
    "        if target==numbers[index]:\n",
    "            result+=1\n",
    "        elif target==-numbers[index]:\n",
    "            result+=1\n",
    "        return\n",
    "\n",
    "    dfs(numbers,target-numbers[index],index+1)\n",
    "    dfs(numbers,target+numbers[index],index+1)\n",
    "\n",
    "dfs(numbers,3,0)  \n",
    "    \n"
   ]
  },
  {
   "cell_type": "code",
   "execution_count": 24,
   "metadata": {},
   "outputs": [
    {
     "data": {
      "text/plain": [
       "5"
      ]
     },
     "execution_count": 24,
     "metadata": {},
     "output_type": "execute_result"
    }
   ],
   "source": [
    "result"
   ]
  },
  {
   "cell_type": "code",
   "execution_count": null,
   "metadata": {},
   "outputs": [],
   "source": []
  }
 ],
 "metadata": {
  "kernelspec": {
   "display_name": "base",
   "language": "python",
   "name": "python3"
  },
  "language_info": {
   "codemirror_mode": {
    "name": "ipython",
    "version": 3
   },
   "file_extension": ".py",
   "mimetype": "text/x-python",
   "name": "python",
   "nbconvert_exporter": "python",
   "pygments_lexer": "ipython3",
   "version": "3.11.7"
  }
 },
 "nbformat": 4,
 "nbformat_minor": 2
}
