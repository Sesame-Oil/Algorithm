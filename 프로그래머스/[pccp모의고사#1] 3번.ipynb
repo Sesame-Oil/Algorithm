{
 "cells": [
  {
   "cell_type": "code",
   "execution_count": null,
   "metadata": {},
   "outputs": [],
   "source": [
    "def solution(queries):\n",
    "    answer = []\n",
    "    result={0:[0 for i in range (4)],1:[0,1,2,3],2:[0,1,2,3],3:[3 for i in range(4)]}\n",
    "    oresult=[\"RR\",\"Rr\",\"Rr\",\"rr\"]\n",
    "    st =[]\n",
    "    for query in queries:\n",
    "        tst=[]\n",
    "        cnt = 1\n",
    "        query[1]-=1\n",
    "        if query[0] == 1:\n",
    "            return [\"Rr\"]\n",
    "        while cnt <=query[0]:\n",
    "            query[1],nmod = divmod(query[1],4)\n",
    "            tst.append(nmod)\n",
    "            cnt+=1\n",
    "        tst.pop()\n",
    "        st.append(tst)\n",
    "        \n",
    "    for tst in st:\n",
    "        t = tst.pop()\n",
    "        while tst:\n",
    "            t = result[t][tst.pop()]\n",
    "        answer.append(oresult[t])\n",
    "    return answer"
   ]
  }
 ],
 "metadata": {
  "language_info": {
   "name": "python"
  }
 },
 "nbformat": 4,
 "nbformat_minor": 2
}
