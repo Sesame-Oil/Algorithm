{
 "cells": [
  {
   "cell_type": "code",
   "execution_count": 13,
   "metadata": {},
   "outputs": [
    {
     "name": "stdout",
     "output_type": "stream",
     "text": [
      "ab ab\n",
      "ab ab\n",
      "ab cd\n",
      "cd ik\n",
      "ik cd\n",
      "cd \n"
     ]
    }
   ],
   "source": [
    "s = \"abababcdikcd\"\n",
    "for i in range(0,len(s),2):\n",
    "    # 맞은 상황\n",
    "    print(s[i:i+2],s[i+2:i+4])"
   ]
  },
  {
   "cell_type": "code",
   "execution_count": 9,
   "metadata": {},
   "outputs": [
    {
     "ename": "SyntaxError",
     "evalue": "invalid syntax (3015924476.py, line 11)",
     "output_type": "error",
     "traceback": [
      "\u001b[1;36m  Cell \u001b[1;32mIn[9], line 11\u001b[1;36m\u001b[0m\n\u001b[1;33m    elif\u001b[0m\n\u001b[1;37m        ^\u001b[0m\n\u001b[1;31mSyntaxError\u001b[0m\u001b[1;31m:\u001b[0m invalid syntax\n"
     ]
    }
   ],
   "source": [
    "s = \"abababcdikcd\"\n",
    "compressed = \"\"\n",
    "cnt = 0\n",
    "for j in range(0\n",
    "    for i in range(0,len(s),j):\n",
    "        # 맞은 상황\n",
    "        if s[i:i+j]==s[i+j:i+j*2]:\n",
    "            cnt += 1\n",
    "            now_str = s[i:i+j]\n",
    "            compressing=True\n",
    "            \n",
    "        # 방금까진 맞다가 이번엔 안맞는 상황\n",
    "        elif compressing:\n",
    "            compressed += str(cnt)\n",
    "            compressed += now_str\n",
    "            cnt=0\n",
    "            compressing = False\n",
    "        # 그냥 쭉 안맞는 상황\n",
    "        else:\n",
    "print(compressed)\n"
   ]
  },
  {
   "cell_type": "code",
   "execution_count": 7,
   "metadata": {},
   "outputs": [
    {
     "data": {
      "text/plain": [
       "''"
      ]
     },
     "execution_count": 7,
     "metadata": {},
     "output_type": "execute_result"
    }
   ],
   "source": [
    "compressed\n",
    "\n",
    "\n",
    "\n",
    "\n",
    "\n"
   ]
  },
  {
   "cell_type": "code",
   "execution_count": 1,
   "metadata": {},
   "outputs": [
    {
     "name": "stdout",
     "output_type": "stream",
     "text": [
      "2a2ba3c\n",
      "aabbaccc\n",
      "aabbaccc\n",
      "aabbaccc\n",
      "7\n"
     ]
    }
   ],
   "source": [
    "s = input()\n",
    "minlen = int(len(s))\n",
    "\n",
    "for step in range(1,int(len(s)/2)+1):\n",
    "    com_cnt = 0\n",
    "    compressed = \"\"\n",
    "    compressing = False\n",
    "    for i in range(0, len(s), step):\n",
    "        if s[i:i+step] == s[i+step:i+2*step]:\n",
    "            compressing =True\n",
    "            com_cnt+=1\n",
    "            now_pattern = s[i:i+step]\n",
    "        elif compressing:\n",
    "            compressed+=f\"{com_cnt+1}{now_pattern}\"\n",
    "            com_cnt=0\n",
    "            compressing=False\n",
    "        else:\n",
    "            compressed+=s[i:i+step]\n",
    "    print(compressed)\n",
    "    minlen = min(minlen,len(compressed))\n",
    "\n",
    "print(minlen)"
   ]
  },
  {
   "cell_type": "code",
   "execution_count": null,
   "metadata": {},
   "outputs": [],
   "source": []
  }
 ],
 "metadata": {
  "kernelspec": {
   "display_name": "Python 3 (ipykernel)",
   "language": "python",
   "name": "python3"
  },
  "language_info": {
   "codemirror_mode": {
    "name": "ipython",
    "version": 3
   },
   "file_extension": ".py",
   "mimetype": "text/x-python",
   "name": "python",
   "nbconvert_exporter": "python",
   "pygments_lexer": "ipython3",
   "version": "3.11.7"
  }
 },
 "nbformat": 4,
 "nbformat_minor": 4
}
