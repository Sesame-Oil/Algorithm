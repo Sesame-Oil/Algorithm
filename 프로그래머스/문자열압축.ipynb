{
 "cells": [
  {
   "cell_type": "code",
   "execution_count": 19,
   "metadata": {},
   "outputs": [],
   "source": []
  },
  {
   "cell_type": "code",
   "execution_count": 22,
   "metadata": {},
   "outputs": [
    {
     "name": "stdout",
     "output_type": "stream",
     "text": [
      "0\n"
     ]
    }
   ],
   "source": [
    "s = input()\n",
    "minlen = int(len(s))\n",
    "\n",
    "for step in range(1,int(len(s)/2)+1):\n",
    "    com_cnt = 0\n",
    "    compressed = \"\"\n",
    "    compressing = False\n",
    "    for i in range(0, len(s), step):\n",
    "        if s[i:i+step] == s[i+step:i+2*step]:\n",
    "            compressing =True\n",
    "            com_cnt+=1\n",
    "            now_pattern = s[i:i+step]\n",
    "        elif compressing:\n",
    "            compressed+=f\"{com_cnt+1}{now_pattern}\"\n",
    "            com_cnt=0\n",
    "            compressing=False\n",
    "        else:\n",
    "            compressed+=s[i:i+step]\n",
    "    print(compressed)\n",
    "    minlen = min(minlen,len(compressed))\n",
    "\n",
    "print(minlen)"
   ]
  },
  {
   "cell_type": "code",
   "execution_count": null,
   "metadata": {},
   "outputs": [],
   "source": []
  }
 ],
 "metadata": {
  "kernelspec": {
   "display_name": "base",
   "language": "python",
   "name": "python3"
  },
  "language_info": {
   "codemirror_mode": {
    "name": "ipython",
    "version": 3
   },
   "file_extension": ".py",
   "mimetype": "text/x-python",
   "name": "python",
   "nbconvert_exporter": "python",
   "pygments_lexer": "ipython3",
   "version": "3.11.7"
  }
 },
 "nbformat": 4,
 "nbformat_minor": 2
}
