{
 "cells": [
  {
   "cell_type": "code",
   "execution_count": 25,
   "metadata": {},
   "outputs": [
    {
     "name": "stdout",
     "output_type": "stream",
     "text": [
      "수익률: 12.094575675398488 %\n"
     ]
    }
   ],
   "source": [
    "import yfinance as yf\n",
    "import pandas as pd\n",
    "\n",
    "\n",
    "def get_exchange_rate(start_date, end_date):\n",
    "    # 원/달러 환율 데이터 가져오기\n",
    "    krw_usd = yf.Ticker(\"KRW=X\")\n",
    "\n",
    "    # 시작 날짜와 종료 날짜로 데이터 필터링\n",
    "    exchange_rate_data = krw_usd.history(\n",
    "        period=\"1d\", start=start_date, end=end_date)\n",
    "\n",
    "    return exchange_rate_data\n",
    "\n",
    "\n",
    "# 원하는 기간 설정\n",
    "start_date = \"2018-10-31\"\n",
    "end_date = \"2023-11-01\"\n",
    "\n",
    "# 원/달러 환율 데이터 가져오기\n",
    "exchange_rate_data = get_exchange_rate(start_date, end_date)\n",
    "\n",
    "# 데이터 출력\n",
    "\n",
    "dollars: float = 0.\n",
    "\n",
    "history = pd.DataFrame()\n",
    "\n",
    "# [기준환율, 보유달러, 보유 원화]\n",
    "interval = [[a, 0.0, 50000000.0] for a in range(1300, 1200, -5)]\n",
    "selling_rate = 1.01\n",
    "\n",
    "exchange_rate_data[\"Index\"] = exchange_rate_data.index\n",
    "\n",
    "for er in exchange_rate_data[\"Open\"]:\n",
    "    for it in interval:\n",
    "        # 달러 매수\n",
    "        if er < it[0] and it[2] > 0.0:\n",
    "            it[1] = it[2]/er\n",
    "            it[2] = 0.0\n",
    "        # 달러 매도\n",
    "        if er > it[0] * selling_rate and it[1] > 0.0:\n",
    "            it[2] += it[1] * it[0]\n",
    "            for i in interval:\n",
    "                it[2] += ((er / it[0]) - 1.0) / len(interval)\n",
    "            it[1] = 0.0\n",
    "\n",
    "account_now = [i[2] + i[1] * exchange_rate_data[\"Open\"][-1] for i in interval]\n",
    "\n",
    "print(\"수익률:\", ((sum(account_now)/1000000000)-1) * 100 ,\"%\")"
   ]
  }
 ],
 "metadata": {
  "kernelspec": {
   "display_name": "base",
   "language": "python",
   "name": "python3"
  },
  "language_info": {
   "codemirror_mode": {
    "name": "ipython",
    "version": 3
   },
   "file_extension": ".py",
   "mimetype": "text/x-python",
   "name": "python",
   "nbconvert_exporter": "python",
   "pygments_lexer": "ipython3",
   "version": "3.11.5"
  }
 },
 "nbformat": 4,
 "nbformat_minor": 2
}
